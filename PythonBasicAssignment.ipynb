{
  "nbformat": 4,
  "nbformat_minor": 0,
  "metadata": {
    "colab": {
      "provenance": []
    },
    "kernelspec": {
      "name": "python3",
      "display_name": "Python 3"
    },
    "language_info": {
      "name": "python"
    }
  },
  "cells": [
    {
      "cell_type": "code",
      "execution_count": null,
      "metadata": {
        "id": "d_44X72_TMSV"
      },
      "outputs": [],
      "source": []
    },
    {
      "cell_type": "markdown",
      "source": [
        "1.What is Python, and why is it popular?\n",
        " - Python is a programming language  which is very easy to learn.\n",
        " - It is popular because it is easy to learn ,versatile,has its own libraries also for data science.Also python has a large community support.\n",
        "\n",
        "2.What is an interpreter in Python?\n",
        "- It is a program or software which translates python written code into machine readable code in form of 0 and 1 which machine can understand and then machine execute it.\n",
        "\n",
        "3.What are pre-defined keywords in Python?\n",
        " - Like other programming languages python have some predefined keywords in python and they have specific meaning and are reserved for use in python programs.\n",
        " - These keywords cannot be used as variable name.\n",
        " - Example of few keywords are else, for, break,end,else etc.\n",
        "\n",
        " 4.Can keywords be used as variable names?\n",
        "  - keywords cannot be used as variable name.\n",
        "\n",
        "5.What is mutability in Python?\n",
        "- Mutability is ability to change the object afterward their creation.\n",
        "\n",
        "6.Why are lists mutable, but tuples are immutable?\n",
        " - List are mutable because we can change its value even after its creation\n",
        " - While tuples are immutable beacuse we cant change their values after their formation.\n",
        "\n",
        "7.What is the difference between “==” and “is” operators in Python?\n",
        "- \"==\" is known as the equality operator. It is used to compare the values of two objects to check if they are equal.\n",
        "- And \"is\" operator is in Python is used to compare the identity of two objects. This means it checks whether two variables point to the same object in memory, rather than comparing their values.\n",
        "\n",
        "8.What are logical operators in Python?\n",
        "  - Python logical operators are used to combine conditional statements, allowing us to perform operations based on multiple conditions.These operators are essential for controlling the flow of a program and making decisions based on various conditions. Examples are 'and','or', and 'not'\n",
        "\n",
        "\n",
        "9.What is type casting in Python?\n",
        "- It is the process of converting a variable from one data type to another. In Python, this can be done either implicitly or explicitly.\n",
        "\n",
        "\n",
        "10.What is the difference between implicit and explicit type casting\n",
        "- In implicit type conversion, Python automatically converts one data type to another without any user intervention.\n",
        "- Explicit type conversion requires the user to manually convert the data type using predefined functions like int(), float(), and str().\n",
        "\n",
        "11. What is the purpose of conditional statements in Python?\n",
        "- Conditional statements in Python allow us to execute specific blocks of code based on whether a condition is true or false. These statements are fundamental for controlling the flow of a program and making decisions within the code.\n",
        "- Types of Conditional Statements\n",
        " - If Statement\n",
        " - If-Else Statement\n",
        " - Elif Statement(short for else if)\n",
        " - Nested If Statements\n",
        "\n",
        "12. How does the elif statement work?\n",
        "- The elif statement is useful when you need to check multiple conditions. It can be used between an if and an else statement. If the initial if condition is False, Python will check the elif condition. If the elif condition is also False, it will move on to the next elif or the final else block.\n",
        "\n",
        "13. What is the difference between for and while loops?\n",
        "-  What is the difference between for and while loops\n",
        "  - For Loop->> A for loop is used when we know in advance how many times you want to execute the block of code. It iterates over a sequence (e.g., a list, tuple, string, or range) and executes the block of code for each item in the sequence. The loop variable takes the value of each item in the sequence during each iteration.\n",
        "  - While Loop->> A while loop is used when you don’t know in advance how many times we want to execute the block of code. It continues to execute as long as the specified condition is true. It’s important to make sure that the condition eventually becomes false; otherwise, the loop will run indefinitely, resulting in an infinite loop.\n",
        "\n",
        "14. Describe a scenario where a while loop is more suitable than a for loop.\n",
        "- While is useful in scenarios where the break condition doesn't logically depend on any kind of sequence.So it is used when we don’t know in advance how many times you want to execute the block of code."
      ],
      "metadata": {
        "id": "9Zj1c3tjTUq0"
      }
    },
    {
      "cell_type": "code",
      "source": [
        "# 1. Write a Python program to print \"Hello, World!\"\n",
        "print(\"Hello World\")"
      ],
      "metadata": {
        "colab": {
          "base_uri": "https://localhost:8080/"
        },
        "id": "e5z44RS0qyOR",
        "outputId": "662a2315-b3bc-4fcc-e4bc-0730fccf6c79"
      },
      "execution_count": null,
      "outputs": [
        {
          "output_type": "stream",
          "name": "stdout",
          "text": [
            "Hello World\n"
          ]
        }
      ]
    },
    {
      "cell_type": "code",
      "source": [
        "# 2.  Write a Python program that displays your name and age?\n",
        "name = \"Pravin Singh\"\n",
        "age =  \"34 years\"\n",
        "print(name,age)"
      ],
      "metadata": {
        "colab": {
          "base_uri": "https://localhost:8080/"
        },
        "id": "3rHChdv8q_eg",
        "outputId": "5ed65e6e-79f3-4894-9b58-26bbc468fef6"
      },
      "execution_count": null,
      "outputs": [
        {
          "output_type": "stream",
          "name": "stdout",
          "text": [
            "Pravin Singh 34 years\n"
          ]
        }
      ]
    },
    {
      "cell_type": "code",
      "source": [
        "# 3. Write code to print all the pre-defined keywords in Python using the keyword library?\n",
        "import keyword\n",
        "print(\"Print keywords in Python\")\n",
        "print(keyword.kwlist)"
      ],
      "metadata": {
        "colab": {
          "base_uri": "https://localhost:8080/"
        },
        "id": "YWj5O5mdrm9I",
        "outputId": "9d1d0112-4d1b-4206-e2b8-956fd04457c2"
      },
      "execution_count": null,
      "outputs": [
        {
          "output_type": "stream",
          "name": "stdout",
          "text": [
            "Print keywords in Python\n",
            "['False', 'None', 'True', 'and', 'as', 'assert', 'async', 'await', 'break', 'class', 'continue', 'def', 'del', 'elif', 'else', 'except', 'finally', 'for', 'from', 'global', 'if', 'import', 'in', 'is', 'lambda', 'nonlocal', 'not', 'or', 'pass', 'raise', 'return', 'try', 'while', 'with', 'yield']\n"
          ]
        }
      ]
    },
    {
      "cell_type": "code",
      "source": [
        "# 4. Write a program that checks if a given word is a Python keyword.\n",
        "import keyword\n",
        "word = input(\"Enter a word to check whether it is python keyword o not: \")\n",
        "if keyword.iskeyword(word):\n",
        "    print(f\"'{word}' is a Python keyword.\")\n",
        "else:\n",
        "    print(f\"'{word}' is not a Python keyword.\")"
      ],
      "metadata": {
        "colab": {
          "base_uri": "https://localhost:8080/"
        },
        "id": "dsuhWoFBswPW",
        "outputId": "dab31931-4707-431c-e7ec-7ba7507b841f"
      },
      "execution_count": null,
      "outputs": [
        {
          "output_type": "stream",
          "name": "stdout",
          "text": [
            "Enter a word to check whether it is python keyword o not: else\n",
            "'else' is a Python keyword.\n"
          ]
        }
      ]
    },
    {
      "cell_type": "code",
      "source": [
        "#5. Create a list and tuple in Python, and demonstrate how attempting to change an element works differently for each.\n",
        "\n",
        "list_a = [\"sameer\",5 , 4+6j, \"True\"]\n",
        "list_a[0]= \"sahil\"   #List are muttable\n",
        "list_a[0]"
      ],
      "metadata": {
        "colab": {
          "base_uri": "https://localhost:8080/",
          "height": 36
        },
        "id": "QjNmGnRsu_Qr",
        "outputId": "596c3c2f-9c89-4780-e4fb-8ad778f1d23e"
      },
      "execution_count": null,
      "outputs": [
        {
          "output_type": "execute_result",
          "data": {
            "text/plain": [
              "'sahil'"
            ],
            "application/vnd.google.colaboratory.intrinsic+json": {
              "type": "string"
            }
          },
          "metadata": {},
          "execution_count": 25
        }
      ]
    },
    {
      "cell_type": "code",
      "source": [
        "a= (\"sameer\",5 , 4+6j, \"True\")\n",
        "a[0]"
      ],
      "metadata": {
        "colab": {
          "base_uri": "https://localhost:8080/",
          "height": 36
        },
        "id": "NWO2hHjWw6Zg",
        "outputId": "81dd7146-ff8d-440d-a709-93208ba96438"
      },
      "execution_count": null,
      "outputs": [
        {
          "output_type": "execute_result",
          "data": {
            "text/plain": [
              "'sameer'"
            ],
            "application/vnd.google.colaboratory.intrinsic+json": {
              "type": "string"
            }
          },
          "metadata": {},
          "execution_count": 26
        }
      ]
    },
    {
      "cell_type": "code",
      "source": [
        "a[0] = \"sahil\"   # tuples are immutable"
      ],
      "metadata": {
        "colab": {
          "base_uri": "https://localhost:8080/",
          "height": 146
        },
        "id": "CAgnuHp4xZpU",
        "outputId": "22547a67-44fe-4b5a-e701-564d0dd46a56"
      },
      "execution_count": null,
      "outputs": [
        {
          "output_type": "error",
          "ename": "TypeError",
          "evalue": "'tuple' object does not support item assignment",
          "traceback": [
            "\u001b[0;31m---------------------------------------------------------------------------\u001b[0m",
            "\u001b[0;31mTypeError\u001b[0m                                 Traceback (most recent call last)",
            "\u001b[0;32m<ipython-input-27-9947ae15d7a4>\u001b[0m in \u001b[0;36m<cell line: 0>\u001b[0;34m()\u001b[0m\n\u001b[0;32m----> 1\u001b[0;31m \u001b[0ma\u001b[0m\u001b[0;34m[\u001b[0m\u001b[0;36m0\u001b[0m\u001b[0;34m]\u001b[0m \u001b[0;34m=\u001b[0m \u001b[0;34m\"sahil\"\u001b[0m\u001b[0;34m\u001b[0m\u001b[0;34m\u001b[0m\u001b[0m\n\u001b[0m",
            "\u001b[0;31mTypeError\u001b[0m: 'tuple' object does not support item assignment"
          ]
        }
      ]
    },
    {
      "cell_type": "code",
      "source": [
        "# 6. Write a function to demonstrate the behavior of mutable and immutable arguments.\n",
        "a = \"Data Science\"\n",
        "a[0]"
      ],
      "metadata": {
        "colab": {
          "base_uri": "https://localhost:8080/",
          "height": 36
        },
        "id": "rB-CRg36xuCC",
        "outputId": "1635d1dc-8002-4474-9e3a-ac0ce5b09046"
      },
      "execution_count": null,
      "outputs": [
        {
          "output_type": "execute_result",
          "data": {
            "text/plain": [
              "'D'"
            ],
            "application/vnd.google.colaboratory.intrinsic+json": {
              "type": "string"
            }
          },
          "metadata": {},
          "execution_count": 28
        }
      ]
    },
    {
      "cell_type": "code",
      "source": [
        "a[0]= \"T\" # Strings are immutable"
      ],
      "metadata": {
        "colab": {
          "base_uri": "https://localhost:8080/",
          "height": 146
        },
        "id": "eS9F3UvI1_q5",
        "outputId": "cf9061fb-6712-42f7-c0fb-4ebfce72c77a"
      },
      "execution_count": null,
      "outputs": [
        {
          "output_type": "error",
          "ename": "TypeError",
          "evalue": "'str' object does not support item assignment",
          "traceback": [
            "\u001b[0;31m---------------------------------------------------------------------------\u001b[0m",
            "\u001b[0;31mTypeError\u001b[0m                                 Traceback (most recent call last)",
            "\u001b[0;32m<ipython-input-29-32e4f47eb3ae>\u001b[0m in \u001b[0;36m<cell line: 0>\u001b[0;34m()\u001b[0m\n\u001b[0;32m----> 1\u001b[0;31m \u001b[0ma\u001b[0m\u001b[0;34m[\u001b[0m\u001b[0;36m0\u001b[0m\u001b[0;34m]\u001b[0m\u001b[0;34m=\u001b[0m \u001b[0;34m\"T\"\u001b[0m\u001b[0;34m\u001b[0m\u001b[0;34m\u001b[0m\u001b[0m\n\u001b[0m",
            "\u001b[0;31mTypeError\u001b[0m: 'str' object does not support item assignment"
          ]
        }
      ]
    },
    {
      "cell_type": "code",
      "source": [
        "my_dict = {\"Name\" : \"Pravin\" , \"Course\" : \"Data Science\"}\n",
        "type(my_dict)"
      ],
      "metadata": {
        "colab": {
          "base_uri": "https://localhost:8080/"
        },
        "id": "ESvRAtZj2Duf",
        "outputId": "f505d00d-a0ee-4ab9-f204-ea80ed7fabea"
      },
      "execution_count": null,
      "outputs": [
        {
          "output_type": "execute_result",
          "data": {
            "text/plain": [
              "dict"
            ]
          },
          "metadata": {},
          "execution_count": 31
        }
      ]
    },
    {
      "cell_type": "code",
      "source": [
        "my_dict[\"Name\"]"
      ],
      "metadata": {
        "colab": {
          "base_uri": "https://localhost:8080/",
          "height": 36
        },
        "id": "-6WXUL762o4g",
        "outputId": "010e89ca-b6a2-485d-9b9d-712e4de5553a"
      },
      "execution_count": null,
      "outputs": [
        {
          "output_type": "execute_result",
          "data": {
            "text/plain": [
              "'Pravin'"
            ],
            "application/vnd.google.colaboratory.intrinsic+json": {
              "type": "string"
            }
          },
          "metadata": {},
          "execution_count": 32
        }
      ]
    },
    {
      "cell_type": "code",
      "source": [
        "my_dict[\"Name\"] = \"Rahul\""
      ],
      "metadata": {
        "id": "5U0d4DTw3Vkk"
      },
      "execution_count": null,
      "outputs": []
    },
    {
      "cell_type": "code",
      "source": [
        "my_dict[\"Name\"]    # dictionaries are mutable"
      ],
      "metadata": {
        "colab": {
          "base_uri": "https://localhost:8080/",
          "height": 36
        },
        "id": "2ugfVZKV3d4d",
        "outputId": "b7469e6b-395f-4f33-ed52-f2b8acdc88ea"
      },
      "execution_count": null,
      "outputs": [
        {
          "output_type": "execute_result",
          "data": {
            "text/plain": [
              "'Rahul'"
            ],
            "application/vnd.google.colaboratory.intrinsic+json": {
              "type": "string"
            }
          },
          "metadata": {},
          "execution_count": 34
        }
      ]
    },
    {
      "cell_type": "code",
      "source": [
        "# 7. Write a program that performs basic arithmetic operations on two user-input numbers.\n",
        "a = input(\"Please enter first number:\")\n",
        "b = input(\"Please enter second number:\")\n",
        "print(\"Sum of numbers\", int(a) + int(b))\n",
        "print(\"Subtraction of numbers\" ,int(a) - int(b))\n",
        "print(\"product of numbers\" ,int(a) * int(b))\n",
        "print(\"product of numbers\" ,float(a) / float(b))"
      ],
      "metadata": {
        "colab": {
          "base_uri": "https://localhost:8080/"
        },
        "id": "O1Ybspg43gHh",
        "outputId": "6865e1ac-c227-4f5c-aaea-4e2e0bef460d"
      },
      "execution_count": null,
      "outputs": [
        {
          "output_type": "stream",
          "name": "stdout",
          "text": [
            "Please enter first number:14\n",
            "Please enter second number:7\n",
            "Sum of numbers 21\n",
            "Subtraction of numbers 7\n",
            "product of numbers 98\n",
            "product of numbers 2.0\n"
          ]
        }
      ]
    },
    {
      "cell_type": "code",
      "source": [
        "# 8. Write a program to demonstrate the use of logical operators.\n",
        "# 1. Logical AND Operator >> The and operator returns True if both operands are true. If either operand is false, it returns False.\n",
        "a = 5\n",
        "b = 8\n",
        "c= -4\n",
        "if a > 0 and b > 0:\n",
        "  print(\"Numbers are positive\")\n",
        "if a > 0 and b > 0 and c>0:\n",
        "  print(\"Numbers are positive\")\n",
        "else:\n",
        "  print(\"One of the number is negative\")\n",
        "\n"
      ],
      "metadata": {
        "id": "JWQOc0QA4c4u",
        "colab": {
          "base_uri": "https://localhost:8080/"
        },
        "outputId": "56cc4db8-e273-46b0-b902-dbe91cef1977"
      },
      "execution_count": null,
      "outputs": [
        {
          "output_type": "stream",
          "name": "stdout",
          "text": [
            "Numbers are positive\n",
            "One of the number is negative\n"
          ]
        }
      ]
    },
    {
      "cell_type": "code",
      "source": [
        "#Logical OR Operator >>  The or operator returns True if either of the operands is true. If both operands are false, it returns False\n",
        "a = 12\n",
        "b = -13\n",
        "c= -2\n",
        "if a > 0 or b >0:\n",
        "  print(\"One of the number is positive\")\n",
        "else:\n",
        "  print(\"both the numbers are negative\")\n",
        "if b > 0 or c > 0 :\n",
        "  print(\"One of the number is positive\")\n",
        "else:\n",
        "  print(\"both the numbers are negative\")"
      ],
      "metadata": {
        "colab": {
          "base_uri": "https://localhost:8080/"
        },
        "id": "Fng97jdRjZVr",
        "outputId": "9e1c6bf4-19fa-4783-92c6-c30dc85e3b92"
      },
      "execution_count": null,
      "outputs": [
        {
          "output_type": "stream",
          "name": "stdout",
          "text": [
            "One of the number is positive\n",
            "both the numbers are negative\n"
          ]
        }
      ]
    },
    {
      "cell_type": "code",
      "source": [
        "# #Logical NOT Operator >> the not operator reverse the result, returns False if the result is true\n",
        "a = 5\n",
        "\n",
        "if not a == 5:\n",
        "  print (\"a not equals 5\")\n",
        "else:\n",
        "  print(\"a equals 5\")"
      ],
      "metadata": {
        "colab": {
          "base_uri": "https://localhost:8080/"
        },
        "id": "oUihrDBxl-fz",
        "outputId": "b5ae5edd-8572-4eaa-f6c5-e0d38caeaec6"
      },
      "execution_count": null,
      "outputs": [
        {
          "output_type": "stream",
          "name": "stdout",
          "text": [
            "a equals 5\n"
          ]
        }
      ]
    },
    {
      "cell_type": "code",
      "source": [
        "# 9. Write a Python program to convert user input from string to integer, float, and boolean types.\n",
        "a = \"1\"\n",
        "type(a)"
      ],
      "metadata": {
        "colab": {
          "base_uri": "https://localhost:8080/"
        },
        "id": "RcdnSTihmuck",
        "outputId": "bb592c37-baed-4a35-8b80-d4f533310189"
      },
      "execution_count": null,
      "outputs": [
        {
          "output_type": "execute_result",
          "data": {
            "text/plain": [
              "str"
            ]
          },
          "metadata": {},
          "execution_count": 6
        }
      ]
    },
    {
      "cell_type": "code",
      "source": [
        "b = int(a)\n",
        "c = float(a)\n",
        "d = bool(a)\n",
        "print(b)\n",
        "print(c)\n",
        "print(d)"
      ],
      "metadata": {
        "colab": {
          "base_uri": "https://localhost:8080/"
        },
        "id": "a0gaQrJXnJWD",
        "outputId": "3f3975ef-6e12-41dc-f145-1351e241832d"
      },
      "execution_count": null,
      "outputs": [
        {
          "output_type": "stream",
          "name": "stdout",
          "text": [
            "1\n",
            "1.0\n",
            "True\n"
          ]
        }
      ]
    },
    {
      "cell_type": "code",
      "source": [
        "print(type(b))\n",
        "print(type(c))\n",
        "print(type(d))"
      ],
      "metadata": {
        "colab": {
          "base_uri": "https://localhost:8080/"
        },
        "id": "OJJ4uSd7nefg",
        "outputId": "a4f7e43d-c555-4132-e639-d91d3d19275a"
      },
      "execution_count": null,
      "outputs": [
        {
          "output_type": "stream",
          "name": "stdout",
          "text": [
            "<class 'int'>\n",
            "<class 'float'>\n",
            "<class 'bool'>\n"
          ]
        }
      ]
    },
    {
      "cell_type": "code",
      "source": [
        "# 10. Write code to demonstrate type casting with list elements.\n",
        "a = [\"123\" , 4 , \"True\" , True, 6.4 ,\"Data\"]\n",
        "type(a[0])"
      ],
      "metadata": {
        "id": "GH4RtZKMnlsz",
        "colab": {
          "base_uri": "https://localhost:8080/"
        },
        "outputId": "652ba31a-596c-4f80-f313-a2e8bfda997e"
      },
      "execution_count": null,
      "outputs": [
        {
          "output_type": "execute_result",
          "data": {
            "text/plain": [
              "str"
            ]
          },
          "metadata": {},
          "execution_count": 5
        }
      ]
    },
    {
      "cell_type": "code",
      "source": [
        "a[0] = int(a[0])      #str to int\n",
        "type(a[0])"
      ],
      "metadata": {
        "colab": {
          "base_uri": "https://localhost:8080/"
        },
        "id": "nDkfbIwKYPTS",
        "outputId": "a520eb8f-4053-49ee-c0d9-896c4cb1626a"
      },
      "execution_count": null,
      "outputs": [
        {
          "output_type": "execute_result",
          "data": {
            "text/plain": [
              "int"
            ]
          },
          "metadata": {},
          "execution_count": 15
        }
      ]
    },
    {
      "cell_type": "code",
      "source": [
        "type(a[1])"
      ],
      "metadata": {
        "colab": {
          "base_uri": "https://localhost:8080/"
        },
        "id": "E3Lt1YlcYt4L",
        "outputId": "55eb2f81-5c64-4b4e-feb7-86ebccc175f9"
      },
      "execution_count": null,
      "outputs": [
        {
          "output_type": "execute_result",
          "data": {
            "text/plain": [
              "int"
            ]
          },
          "metadata": {},
          "execution_count": 9
        }
      ]
    },
    {
      "cell_type": "code",
      "source": [
        "a[1] = float(a[1])  # int to float\n",
        "type(a[1])"
      ],
      "metadata": {
        "colab": {
          "base_uri": "https://localhost:8080/"
        },
        "id": "gdKLGcKtY3qA",
        "outputId": "8c831fb3-5bc3-4cf7-d05f-76674f2cedac"
      },
      "execution_count": null,
      "outputs": [
        {
          "output_type": "execute_result",
          "data": {
            "text/plain": [
              "float"
            ]
          },
          "metadata": {},
          "execution_count": 10
        }
      ]
    },
    {
      "cell_type": "code",
      "source": [
        "type(a[3])"
      ],
      "metadata": {
        "colab": {
          "base_uri": "https://localhost:8080/"
        },
        "id": "gDldyAmXZIUX",
        "outputId": "d07a1551-d8d5-4ca8-e96c-1fd9cc189b3c"
      },
      "execution_count": null,
      "outputs": [
        {
          "output_type": "execute_result",
          "data": {
            "text/plain": [
              "bool"
            ]
          },
          "metadata": {},
          "execution_count": 11
        }
      ]
    },
    {
      "cell_type": "code",
      "source": [
        "a[3]= str(a[3])\n",
        "type(a[3])    #Bool to str"
      ],
      "metadata": {
        "colab": {
          "base_uri": "https://localhost:8080/"
        },
        "id": "mHkQuACyZO30",
        "outputId": "51390345-c64e-47b8-87d0-2a7a78bf96f3"
      },
      "execution_count": null,
      "outputs": [
        {
          "output_type": "execute_result",
          "data": {
            "text/plain": [
              "str"
            ]
          },
          "metadata": {},
          "execution_count": 14
        }
      ]
    },
    {
      "cell_type": "code",
      "source": [
        "type(a[3])"
      ],
      "metadata": {
        "colab": {
          "base_uri": "https://localhost:8080/"
        },
        "id": "YG-BFav-ZYqr",
        "outputId": "877d2f1e-908c-4a8f-a578-eb2e98716cbb"
      },
      "execution_count": null,
      "outputs": [
        {
          "output_type": "execute_result",
          "data": {
            "text/plain": [
              "str"
            ]
          },
          "metadata": {},
          "execution_count": 18
        }
      ]
    },
    {
      "cell_type": "code",
      "source": [
        "a[3] = bool(a[3])    # str to bool\n",
        "type(a[3])"
      ],
      "metadata": {
        "colab": {
          "base_uri": "https://localhost:8080/"
        },
        "id": "4pMz2pNJZ_Ox",
        "outputId": "aff639f1-70fb-4f07-83b9-570b0dfa953c"
      },
      "execution_count": null,
      "outputs": [
        {
          "output_type": "execute_result",
          "data": {
            "text/plain": [
              "bool"
            ]
          },
          "metadata": {},
          "execution_count": 19
        }
      ]
    },
    {
      "cell_type": "code",
      "source": [
        "print(a)"
      ],
      "metadata": {
        "colab": {
          "base_uri": "https://localhost:8080/"
        },
        "id": "nESxXb60aM8s",
        "outputId": "2a013cf9-312a-4de2-f0bd-6f24159b95cc"
      },
      "execution_count": null,
      "outputs": [
        {
          "output_type": "stream",
          "name": "stdout",
          "text": [
            "[123, 4.0, 'True', True, 6.4, 'Data']\n"
          ]
        }
      ]
    },
    {
      "cell_type": "code",
      "source": [
        "# 11. Write a program that checks if a number is positive, negative, or zero.\n",
        "a = input(\"Please enter a number: \")\n",
        "if(int(a)>0):\n",
        "  print(\"Number is positive\")\n",
        "elif(int(a)<0):\n",
        "  print(\"Number is negative\")\n",
        "else:\n",
        "  print(\"Number is zero\")\n"
      ],
      "metadata": {
        "colab": {
          "base_uri": "https://localhost:8080/"
        },
        "id": "zF62CjYCaPOI",
        "outputId": "d9a49b37-e424-424a-ec14-be5ba44fce3b"
      },
      "execution_count": null,
      "outputs": [
        {
          "output_type": "stream",
          "name": "stdout",
          "text": [
            "Please enter a number: -23\n",
            "Number is negative\n"
          ]
        }
      ]
    },
    {
      "cell_type": "code",
      "source": [
        "# 12. Write a for loop to print numbers from 1 to 10.\n",
        "for i in range(1,11):\n",
        "  print(i , end=\" \")"
      ],
      "metadata": {
        "colab": {
          "base_uri": "https://localhost:8080/"
        },
        "id": "Q4h72D0ZbvvB",
        "outputId": "e9495c5f-d2c5-47aa-d961-42865c57551e"
      },
      "execution_count": null,
      "outputs": [
        {
          "output_type": "stream",
          "name": "stdout",
          "text": [
            "1 2 3 4 5 6 7 8 9 10 "
          ]
        }
      ]
    },
    {
      "cell_type": "code",
      "source": [
        "# 13. Write a Python program to find the sum of all even numbers between 1 and 50.\n",
        "a = 0\n",
        "for num in range(1, 51):\n",
        "    if num % 2 == 0:               # Check if the number is even\n",
        "        a += num        # Add the even number to the sum\n",
        "\n",
        "# Print the result\n",
        "print(\"The sum of all even numbers between 1 and 50 is:\", a)\n"
      ],
      "metadata": {
        "colab": {
          "base_uri": "https://localhost:8080/"
        },
        "id": "ExfaWb_LcEbS",
        "outputId": "9abd1816-4f60-413a-b0cb-efd7b696276d"
      },
      "execution_count": null,
      "outputs": [
        {
          "output_type": "stream",
          "name": "stdout",
          "text": [
            "The sum of all even numbers between 1 and 50 is: 650\n"
          ]
        }
      ]
    },
    {
      "cell_type": "code",
      "source": [
        "# 14.  Write a program to reverse a string using a while loop.\n",
        "a = \"FRIENDS\"\n",
        "reverse = \" \"\n",
        "i = len(a)-1\n",
        "while(i >= 0):\n",
        "  reverse = a[i]\n",
        "  i-=1\n",
        "  print(reverse , end=\"\")"
      ],
      "metadata": {
        "id": "G6dJRvoTdsf0",
        "colab": {
          "base_uri": "https://localhost:8080/"
        },
        "outputId": "5ca42262-b30c-46c6-e0b7-a678590caded"
      },
      "execution_count": 41,
      "outputs": [
        {
          "output_type": "stream",
          "name": "stdout",
          "text": [
            "SDNEIRF"
          ]
        }
      ]
    },
    {
      "cell_type": "code",
      "source": [
        "# 15. Write a Python program to calculate the factorial of a number provided by the user using a while loop\n",
        "a = 5\n",
        "factorial = 1\n",
        "for i in range(1, a + 1):\n",
        "    factorial *= i\n",
        "print(f\"The factorial of {a} is {factorial}\")\n"
      ],
      "metadata": {
        "id": "fM4mAXBCgSRF",
        "colab": {
          "base_uri": "https://localhost:8080/"
        },
        "outputId": "f1dae4ce-0889-4699-c1e9-5007173afa6a"
      },
      "execution_count": 52,
      "outputs": [
        {
          "output_type": "stream",
          "name": "stdout",
          "text": [
            "The factorial of 5 is 120\n"
          ]
        }
      ]
    },
    {
      "cell_type": "code",
      "source": [],
      "metadata": {
        "id": "sM2wDBNa5ynL"
      },
      "execution_count": null,
      "outputs": []
    }
  ]
}